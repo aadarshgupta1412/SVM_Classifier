{
 "cells": [
  {
   "cell_type": "code",
   "execution_count": 1,
   "id": "cbceef45-c45f-4d92-bf07-dfcd7f1f97bc",
   "metadata": {},
   "outputs": [],
   "source": [
    "import numpy as np\n",
    "import matplotlib.pyplot as plt\n",
    "from sklearn import datasets\n",
    "from sklearn import svm\n",
    "from sklearn.model_selection import train_test_split\n",
    "from sklearn import metrics"
   ]
  },
  {
   "cell_type": "code",
   "execution_count": 2,
   "id": "ddb97470-0ff7-480d-b982-c576f52b3d80",
   "metadata": {},
   "outputs": [
    {
     "name": "stdout",
     "output_type": "stream",
     "text": [
      "Y : [-1  1 -1 -1 -1  1  1 -1  1  1 -1 -1  1 -1  1  1 -1 -1 -1  1 -1 -1  1 -1\n",
      "  1  1  1  1  1  1 -1  1 -1  1 -1  1 -1  1  1 -1  1 -1 -1 -1  1 -1 -1  1\n",
      " -1  1] \n",
      "\n",
      "Shape of X : (50, 2)\n"
     ]
    }
   ],
   "source": [
    "\n",
    "X, Y = datasets.make_blobs(n_samples = 50, n_features=2, centers = 2, cluster_std = 1, random_state = 50)\n",
    "Y = np.where(Y==0, -1, 1)\n",
    "print('Y :', Y,\"\\n\")\n",
    "print('Shape of X :', X.shape)\n"
   ]
  },
  {
   "cell_type": "code",
   "execution_count": 3,
   "id": "e978fb6f-1634-43fe-a978-5500a4116152",
   "metadata": {},
   "outputs": [],
   "source": [
    "class SVM:\n",
    "    def __init__(self, learning_rate = 0.001, lambda_param = 0.01, iters = 10000):\n",
    "        self.lr = learning_rate\n",
    "        self.lambda_param = lambda_param\n",
    "        self.iters = iters\n",
    "        self.w = None\n",
    "        self.b = None\n",
    "        \n",
    "    def fit(self, X, Y):\n",
    "        Yn = np.where(Y<=0, -1, 1)\n",
    "        n_samples, n_features = X.shape\n",
    "        self.w = np.zeros(n_features)\n",
    "        self.b = 0\n",
    "        \n",
    "        for i in range(self.iters):\n",
    "            for idx, xi in enumerate(X):\n",
    "                opt = Yn[idx]*(np.dot(xi, self.w)- self.b)\n",
    "                if opt>=1:\n",
    "                    self.w = self.w - self.lr*(2*self.lambda_param*self.w)\n",
    "                else:\n",
    "                    self.w = self.w - self.lr*(2*self.lambda_param*self.w - np.dot(xi, Yn[idx]))\n",
    "                    self.b  =self.b - self.lr*Yn[idx]\n",
    "    \n",
    "    def predict(self, X):\n",
    "        output = np.dot(X, self.w) - self.b\n",
    "        return np.sign(output)\n",
    "                                               \n",
    "        \n",
    "        "
   ]
  },
  {
   "cell_type": "code",
   "execution_count": 4,
   "id": "5cee7a41-2d8b-4e3b-a0b1-b3e5dc1a749f",
   "metadata": {},
   "outputs": [],
   "source": [
    "model1 = SVM()\n",
    "model1.fit(X, Y)"
   ]
  },
  {
   "cell_type": "code",
   "execution_count": 5,
   "id": "6212d4e5-6e68-4bac-a61d-6924653e3c6c",
   "metadata": {},
   "outputs": [
    {
     "name": "stdout",
     "output_type": "stream",
     "text": [
      "[-0.86412084  0.33066905] 0.6880000000000005\n",
      "[-1.]\n"
     ]
    }
   ],
   "source": [
    "print(model1.w, model1.b)\n",
    "print(model1.predict([[5,5]]))"
   ]
  },
  {
   "cell_type": "code",
   "execution_count": 6,
   "id": "cc43762d-58a2-47ef-9a12-e03daa22bf91",
   "metadata": {},
   "outputs": [
    {
     "name": "stdout",
     "output_type": "stream",
     "text": [
      "Y : [-1  1 -1 -1 -1  1  1 -1  1  1 -1 -1  1 -1  1  1 -1 -1 -1  1 -1 -1  1 -1\n",
      "  1  1  1  1  1  1 -1  1 -1  1 -1  1 -1  1  1 -1  1 -1 -1 -1  1 -1 -1  1\n",
      " -1  1] \n",
      "\n",
      "Shape of X : (50, 2)\n"
     ]
    },
    {
     "data": {
      "text/plain": [
       "SVC(kernel='linear')"
      ]
     },
     "execution_count": 6,
     "metadata": {},
     "output_type": "execute_result"
    }
   ],
   "source": [
    "X, Y = datasets.make_blobs(n_samples = 50, n_features=2, centers = 2, cluster_std = 1, random_state = 50)\n",
    "X_train, X_test, Y_train, Y_test = train_test_split(X, Y, test_size=0.3,random_state=100)\n",
    "Y = np.where(Y==0, -1, 1)\n",
    "print('Y :', Y,\"\\n\")\n",
    "print('Shape of X :', X.shape)\n",
    "model2 = svm.SVC(kernel = 'linear')\n",
    "model2.fit(X_train, Y_train)\n"
   ]
  },
  {
   "cell_type": "code",
   "execution_count": 7,
   "id": "01b78d7d-4655-4fc7-9cec-62ef85ee247c",
   "metadata": {},
   "outputs": [
    {
     "name": "stdout",
     "output_type": "stream",
     "text": [
      "[1 0 1 1 0 1 1 1 0 0 0 0 0 0 1]\n",
      "[[-4.66827781 -1.82158821]\n",
      " [ 0.58876987 -5.7729031 ]\n",
      " [-5.78028983 -2.06813406]\n",
      " [-5.13629819 -0.96528085]\n",
      " [ 3.20610826 -4.45056745]\n",
      " [-4.80340682 -2.03913344]\n",
      " [-5.05507688 -1.79520239]\n",
      " [-4.79454359 -1.5487151 ]\n",
      " [-1.10549315 -3.83942962]\n",
      " [-0.25773373 -4.74803119]\n",
      " [-1.39025969 -6.76581681]\n",
      " [ 0.03156439 -5.15286854]\n",
      " [-0.3083834  -4.69529985]\n",
      " [ 0.98724242 -4.09992921]\n",
      " [-5.78147614 -2.34404814]]\n",
      "Accuracy: 1.0\n"
     ]
    }
   ],
   "source": [
    "Y_pred = model2.predict(X_test)\n",
    "print(Y_pred)\n",
    "print(X_test)\n",
    "print(\"Accuracy:\",metrics.accuracy_score(Y_test, Y_pred))"
   ]
  },
  {
   "cell_type": "code",
   "execution_count": 8,
   "id": "3e284fd0-840e-44d1-8704-eb37892b29b3",
   "metadata": {},
   "outputs": [
    {
     "name": "stdout",
     "output_type": "stream",
     "text": [
      "[0]\n"
     ]
    }
   ],
   "source": [
    "Yt = model2.predict([[5, 5]])\n",
    "print(Yt)"
   ]
  }
 ],
 "metadata": {
  "kernelspec": {
   "display_name": "Python 3",
   "language": "python",
   "name": "python3"
  },
  "language_info": {
   "codemirror_mode": {
    "name": "ipython",
    "version": 3
   },
   "file_extension": ".py",
   "mimetype": "text/x-python",
   "name": "python",
   "nbconvert_exporter": "python",
   "pygments_lexer": "ipython3",
   "version": "3.9.5"
  }
 },
 "nbformat": 4,
 "nbformat_minor": 5
}
